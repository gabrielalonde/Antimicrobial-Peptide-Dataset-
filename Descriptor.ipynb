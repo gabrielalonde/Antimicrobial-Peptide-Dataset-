{
  "nbformat": 4,
  "nbformat_minor": 0,
  "metadata": {
    "colab": {
      "provenance": [],
      "authorship_tag": "ABX9TyOTpUSVapKEYbsZ3EBS2OH2",
      "include_colab_link": true
    },
    "kernelspec": {
      "name": "python3",
      "display_name": "Python 3"
    },
    "language_info": {
      "name": "python"
    }
  },
  "cells": [
    {
      "cell_type": "markdown",
      "metadata": {
        "id": "view-in-github",
        "colab_type": "text"
      },
      "source": [
        "<a href=\"https://colab.research.google.com/github/gabrielalonde/ProjetoPIBIC/blob/main/Descriptor.ipynb\" target=\"_parent\"><img src=\"https://colab.research.google.com/assets/colab-badge.svg\" alt=\"Open In Colab\"/></a>"
      ]
    },
    {
      "cell_type": "code",
      "source": [
        "pip install modlamp"
      ],
      "metadata": {
        "id": "9zLo5Oxm-hjH"
      },
      "execution_count": null,
      "outputs": []
    },
    {
      "cell_type": "code",
      "source": [
        "import csv\n",
        "from modlamp.descriptors import GlobalDescriptor, PeptideDescriptor"
      ],
      "metadata": {
        "id": "W5kp4zqP-jTy"
      },
      "execution_count": null,
      "outputs": []
    },
    {
      "cell_type": "code",
      "source": [
        "rows = []\n",
        "\n",
        "#abre o arquivo CSV\n",
        "with open('grupo+.csv', 'r') as file:\n",
        "    reader = csv.reader(file)\n",
        "    header = next(reader)\n",
        "\n",
        "    # Adicionar nome as novas colunas\n",
        "    header.extend(['NetCharge', 'BomanIndex', 'HR', 'Aliphatic', 'II', 'IP', 'HM'])\n",
        "\n",
        "    # Percorrer as linhas\n",
        "    for row in reader:\n",
        "        # Extrair a sequência de peptídeo da coluna peptideo\n",
        "        peptide = row[1]\n",
        "\n",
        "        #NetCharge\n",
        "        desc = GlobalDescriptor(peptide)\n",
        "        desc.calculate_charge(ph=7.4)\n",
        "        netcharge = desc.descriptor[0][0]\n",
        "\n",
        "        #BomanIndex\n",
        "        try:\n",
        "            desc.boman_index()\n",
        "        except:\n",
        "            breakpoint()\n",
        "        bomanIndex = desc.descriptor[0][0]\n",
        "\n",
        "        #HydrophobicRatio\n",
        "        desc.hydrophobic_ratio()\n",
        "        HR = desc.descriptor[0][0]\n",
        "\n",
        "        #AliphaticIndex\n",
        "        desc.aliphatic_index()\n",
        "        al = desc.descriptor[0][0]\n",
        "\n",
        "        #InstabilityIndex\n",
        "        desc.instability_index()\n",
        "        II = desc.descriptor[0][0]\n",
        "\n",
        "        #IsoelectricPoint\n",
        "        desc.isoelectric_point()\n",
        "        IP = desc.descriptor[0][0]\n",
        "\n",
        "        #HydrophobicMoment\n",
        "        desc2 = PeptideDescriptor(peptide, \"eisenberg\")\n",
        "        desc2.calculate_moment(window=1000)\n",
        "        HM = desc2.descriptor[0][0]\n",
        "\n",
        "        row.extend([netcharge, bomanIndex, HR, al, II, IP, HM])\n",
        "\n",
        "        rows.append(row)\n",
        "\n",
        "# Escrever os dados atualizados em um novo arquivo CSV\n",
        "with open('grupo+results.csv', 'w', newline='') as file:\n",
        "    writer = csv.writer(file)\n",
        "    writer.writerow(header)\n",
        "    writer.writerows(rows)  # Escrever as linhas atualizadas\n"
      ],
      "metadata": {
        "id": "UbOKP1BMDPIS",
        "colab": {
          "base_uri": "https://localhost:8080/",
          "height": 549
        },
        "outputId": "a4ba8121-d9b4-4e04-a86c-351f7152ebf4"
      },
      "execution_count": null,
      "outputs": [
        {
          "output_type": "stream",
          "name": "stdout",
          "text": [
            "> \u001b[0;32m<ipython-input-5-e04026f4b9b0>\u001b[0m(26)\u001b[0;36m<cell line: 4>\u001b[0;34m()\u001b[0m\n",
            "\u001b[0;32m     24 \u001b[0;31m        \u001b[0;32mexcept\u001b[0m\u001b[0;34m:\u001b[0m\u001b[0;34m\u001b[0m\u001b[0;34m\u001b[0m\u001b[0m\n",
            "\u001b[0m\u001b[0;32m     25 \u001b[0;31m            \u001b[0mbreakpoint\u001b[0m\u001b[0;34m(\u001b[0m\u001b[0;34m)\u001b[0m\u001b[0;34m\u001b[0m\u001b[0;34m\u001b[0m\u001b[0m\n",
            "\u001b[0m\u001b[0;32m---> 26 \u001b[0;31m        \u001b[0mbomanIndex\u001b[0m \u001b[0;34m=\u001b[0m \u001b[0mdesc\u001b[0m\u001b[0;34m.\u001b[0m\u001b[0mdescriptor\u001b[0m\u001b[0;34m[\u001b[0m\u001b[0;36m0\u001b[0m\u001b[0;34m]\u001b[0m\u001b[0;34m[\u001b[0m\u001b[0;36m0\u001b[0m\u001b[0;34m]\u001b[0m\u001b[0;34m\u001b[0m\u001b[0;34m\u001b[0m\u001b[0m\n",
            "\u001b[0m\u001b[0;32m     27 \u001b[0;31m\u001b[0;34m\u001b[0m\u001b[0m\n",
            "\u001b[0m\u001b[0;32m     28 \u001b[0;31m        \u001b[0;31m#HydrophobicRatio\u001b[0m\u001b[0;34m\u001b[0m\u001b[0;34m\u001b[0m\u001b[0m\n",
            "\u001b[0m\n",
            "--KeyboardInterrupt--\n",
            "\n",
            "KeyboardInterrupt: Interrupted by user\n"
          ]
        },
        {
          "output_type": "error",
          "ename": "KeyError",
          "evalue": "ignored",
          "traceback": [
            "\u001b[0;31m---------------------------------------------------------------------------\u001b[0m",
            "\u001b[0;31mKeyError\u001b[0m                                  Traceback (most recent call last)",
            "\u001b[0;32m<ipython-input-5-e04026f4b9b0>\u001b[0m in \u001b[0;36m<cell line: 4>\u001b[0;34m()\u001b[0m\n\u001b[1;32m     35\u001b[0m \u001b[0;34m\u001b[0m\u001b[0m\n\u001b[1;32m     36\u001b[0m         \u001b[0;31m#InstabilityIndex\u001b[0m\u001b[0;34m\u001b[0m\u001b[0;34m\u001b[0m\u001b[0m\n\u001b[0;32m---> 37\u001b[0;31m         \u001b[0mdesc\u001b[0m\u001b[0;34m.\u001b[0m\u001b[0minstability_index\u001b[0m\u001b[0;34m(\u001b[0m\u001b[0;34m)\u001b[0m\u001b[0;34m\u001b[0m\u001b[0;34m\u001b[0m\u001b[0m\n\u001b[0m\u001b[1;32m     38\u001b[0m         \u001b[0mII\u001b[0m \u001b[0;34m=\u001b[0m \u001b[0mdesc\u001b[0m\u001b[0;34m.\u001b[0m\u001b[0mdescriptor\u001b[0m\u001b[0;34m[\u001b[0m\u001b[0;36m0\u001b[0m\u001b[0;34m]\u001b[0m\u001b[0;34m[\u001b[0m\u001b[0;36m0\u001b[0m\u001b[0;34m]\u001b[0m\u001b[0;34m\u001b[0m\u001b[0;34m\u001b[0m\u001b[0m\n\u001b[1;32m     39\u001b[0m \u001b[0;34m\u001b[0m\u001b[0m\n",
            "\u001b[0;32m/usr/local/lib/python3.10/dist-packages/modlamp/descriptors.py\u001b[0m in \u001b[0;36minstability_index\u001b[0;34m(self, append)\u001b[0m\n\u001b[1;32m    513\u001b[0m             \u001b[0mstabindex\u001b[0m \u001b[0;34m=\u001b[0m \u001b[0mfloat\u001b[0m\u001b[0;34m(\u001b[0m\u001b[0;34m)\u001b[0m\u001b[0;34m\u001b[0m\u001b[0;34m\u001b[0m\u001b[0m\n\u001b[1;32m    514\u001b[0m             \u001b[0;32mfor\u001b[0m \u001b[0mi\u001b[0m \u001b[0;32min\u001b[0m \u001b[0mrange\u001b[0m\u001b[0;34m(\u001b[0m\u001b[0mlen\u001b[0m\u001b[0;34m(\u001b[0m\u001b[0mseq\u001b[0m\u001b[0;34m)\u001b[0m \u001b[0;34m-\u001b[0m \u001b[0;36m1\u001b[0m\u001b[0;34m)\u001b[0m\u001b[0;34m:\u001b[0m\u001b[0;34m\u001b[0m\u001b[0;34m\u001b[0m\u001b[0m\n\u001b[0;32m--> 515\u001b[0;31m                 \u001b[0mstabindex\u001b[0m \u001b[0;34m+=\u001b[0m \u001b[0mdimv\u001b[0m\u001b[0;34m[\u001b[0m\u001b[0mseq\u001b[0m\u001b[0;34m[\u001b[0m\u001b[0mi\u001b[0m\u001b[0;34m]\u001b[0m\u001b[0;34m]\u001b[0m\u001b[0;34m[\u001b[0m\u001b[0mseq\u001b[0m\u001b[0;34m[\u001b[0m\u001b[0mi\u001b[0m\u001b[0;34m+\u001b[0m\u001b[0;36m1\u001b[0m\u001b[0;34m]\u001b[0m\u001b[0;34m]\u001b[0m\u001b[0;34m\u001b[0m\u001b[0;34m\u001b[0m\u001b[0m\n\u001b[0m\u001b[1;32m    516\u001b[0m             \u001b[0mdesc\u001b[0m\u001b[0;34m.\u001b[0m\u001b[0mappend\u001b[0m\u001b[0;34m(\u001b[0m\u001b[0;34m(\u001b[0m\u001b[0;36m10.0\u001b[0m \u001b[0;34m/\u001b[0m \u001b[0mlen\u001b[0m\u001b[0;34m(\u001b[0m\u001b[0mseq\u001b[0m\u001b[0;34m)\u001b[0m\u001b[0;34m)\u001b[0m \u001b[0;34m*\u001b[0m \u001b[0mstabindex\u001b[0m\u001b[0;34m)\u001b[0m\u001b[0;34m\u001b[0m\u001b[0;34m\u001b[0m\u001b[0m\n\u001b[1;32m    517\u001b[0m         \u001b[0mdesc\u001b[0m \u001b[0;34m=\u001b[0m \u001b[0mnp\u001b[0m\u001b[0;34m.\u001b[0m\u001b[0masarray\u001b[0m\u001b[0;34m(\u001b[0m\u001b[0mdesc\u001b[0m\u001b[0;34m)\u001b[0m\u001b[0;34m.\u001b[0m\u001b[0mreshape\u001b[0m\u001b[0;34m(\u001b[0m\u001b[0mlen\u001b[0m\u001b[0;34m(\u001b[0m\u001b[0mdesc\u001b[0m\u001b[0;34m)\u001b[0m\u001b[0;34m,\u001b[0m \u001b[0;36m1\u001b[0m\u001b[0;34m)\u001b[0m\u001b[0;34m\u001b[0m\u001b[0;34m\u001b[0m\u001b[0m\n",
            "\u001b[0;31mKeyError\u001b[0m: 'B'"
          ]
        }
      ]
    },
    {
      "cell_type": "code",
      "source": [],
      "metadata": {
        "id": "-0SA2kRdDHhZ"
      },
      "execution_count": null,
      "outputs": []
    },
    {
      "cell_type": "code",
      "source": [],
      "metadata": {
        "id": "8yqYA0G-CjD8"
      },
      "execution_count": null,
      "outputs": []
    },
    {
      "cell_type": "code",
      "source": [
        "rows = []\n",
        "\n",
        "#abre o arquivo CSV\n",
        "with open('grupo-csv', 'r') as file:\n",
        "    reader = csv.reader(file)\n",
        "    header = next(reader)\n",
        "\n",
        "    # Adicionar nome as novas colunas\n",
        "    header.extend(['NetCharge', 'BomanIndex', 'HR', 'Aliphatic', 'II', 'IP', 'HM'])\n",
        "\n",
        "    # Percorrer as linhas\n",
        "    for row in reader:\n",
        "        # Extrair a sequência de peptídeo da coluna peptideo\n",
        "        peptide = row[1]\n",
        "\n",
        "        #NetCharge\n",
        "        desc = GlobalDescriptor(peptide)\n",
        "        desc.calculate_charge(ph=7.4)\n",
        "        netcharge = desc.descriptor[0][0]\n",
        "\n",
        "        #BomanIndex\n",
        "        try:\n",
        "            desc.boman_index()\n",
        "        except:\n",
        "            breakpoint()\n",
        "        bomanIndex = desc.descriptor[0][0]\n",
        "\n",
        "        #HydrophobicRatio\n",
        "        desc.hydrophobic_ratio()\n",
        "        HR = desc.descriptor[0][0]\n",
        "\n",
        "        #AliphaticIndex\n",
        "        desc.aliphatic_index()\n",
        "        al = desc.descriptor[0][0]\n",
        "\n",
        "        #InstabilityIndex\n",
        "        desc.instability_index()\n",
        "        II = desc.descriptor[0][0]\n",
        "\n",
        "        #IsoelectricPoint\n",
        "        desc.isoelectric_point()\n",
        "        IP = desc.descriptor[0][0]\n",
        "\n",
        "        #HydrophobicMoment\n",
        "        desc2 = PeptideDescriptor(peptide, \"eisenberg\")\n",
        "        desc2.calculate_moment(window=1000)\n",
        "        HM = desc2.descriptor[0][0]\n",
        "\n",
        "        row.extend([netcharge, bomanIndex, HR, al, II, IP, HM])\n",
        "\n",
        "        rows.append(row)\n",
        "\n",
        "# Escrever os dados atualizados em um novo arquivo CSV\n",
        "with open('grupo-results.csv', 'w', newline='') as file:\n",
        "    writer = csv.writer(file)\n",
        "    writer.writerow(header)\n",
        "    writer.writerows(rows)  # Escrever as linhas atualizadas\n"
      ],
      "metadata": {
        "id": "6s7dfCsAA57t"
      },
      "execution_count": null,
      "outputs": []
    }
  ]
}