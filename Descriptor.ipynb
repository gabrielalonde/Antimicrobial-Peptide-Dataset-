{
  "cells": [
    {
      "cell_type": "markdown",
      "metadata": {
        "id": "view-in-github",
        "colab_type": "text"
      },
      "source": [
        "<a href=\"https://colab.research.google.com/github/gabrielalonde/Antimicrobial-Peptide-Dataset-/blob/main/Descriptor.ipynb\" target=\"_parent\"><img src=\"https://colab.research.google.com/assets/colab-badge.svg\" alt=\"Open In Colab\"/></a>"
      ]
    },
    {
      "cell_type": "code",
      "execution_count": null,
      "metadata": {
        "id": "9zLo5Oxm-hjH"
      },
      "outputs": [],
      "source": [
        "pip install modlamp"
      ]
    },
    {
      "cell_type": "code",
      "source": [
        "pip install biopython"
      ],
      "metadata": {
        "id": "jg4ijp1xc7td"
      },
      "execution_count": null,
      "outputs": []
    },
    {
      "cell_type": "code",
      "source": [
        "pip install pandas"
      ],
      "metadata": {
        "id": "PP3rYbGydBHr"
      },
      "execution_count": null,
      "outputs": []
    },
    {
      "cell_type": "code",
      "execution_count": null,
      "metadata": {
        "id": "W5kp4zqP-jTy"
      },
      "outputs": [],
      "source": [
        "import csv\n",
        "from modlamp.descriptors import GlobalDescriptor, PeptideDescriptor"
      ]
    },
    {
      "cell_type": "code",
      "execution_count": null,
      "metadata": {
        "id": "UbOKP1BMDPIS"
      },
      "outputs": [],
      "source": [
        "rows = []\n",
        "#%debug\n",
        "#abre o arquivo CSV\n",
        "with open('grupo-.csv', 'r') as file:\n",
        "    reader = csv.reader(file)\n",
        "    header = next(reader)\n",
        "\n",
        "    # Adicionar nome as novas colunas\n",
        "    header.extend(['NetCharge', 'BomanIndex', 'HR', 'Aliphatic', 'II', 'IP', 'HM'])\n",
        "\n",
        "    # Percorrer as linhas\n",
        "    for row in reader:\n",
        "        # Extrair a sequência de peptídeo da coluna peptideo\n",
        "        peptide = row[1]\n",
        "\n",
        "        #NetCharge\n",
        "        desc = GlobalDescriptor(peptide)\n",
        "        desc.calculate_charge(ph=7.4)\n",
        "        netcharge = desc.descriptor[0][0]\n",
        "\n",
        "        #BomanIndex\n",
        "        try:\n",
        "            desc.boman_index()\n",
        "        except:\n",
        "            breakpoint()\n",
        "        bomanIndex = desc.descriptor[0][0]\n",
        "\n",
        "        #HydrophobicRatio\n",
        "        desc.hydrophobic_ratio()\n",
        "        HR = desc.descriptor[0][0]\n",
        "\n",
        "        #AliphaticIndex\n",
        "        desc.aliphatic_index()\n",
        "        al = desc.descriptor[0][0]\n",
        "\n",
        "        #InstabilityIndex\n",
        "        desc.instability_index()\n",
        "        II = desc.descriptor[0][0]\n",
        "\n",
        "        #IsoelectricPoint\n",
        "        desc.isoelectric_point()\n",
        "        IP = desc.descriptor[0][0]\n",
        "\n",
        "        #HydrophobicMoment\n",
        "        desc2 = PeptideDescriptor(peptide, \"eisenberg\")\n",
        "        desc2.calculate_moment(window=1000)\n",
        "        HM = desc2.descriptor[0][0]\n",
        "\n",
        "        row.extend([netcharge, bomanIndex, HR, al, II, IP, HM])\n",
        "\n",
        "        rows.append(row)\n",
        "\n",
        "# Escrever os dados atualizados em um novo arquivo CSV\n",
        "with open('grupo-descriptor.csv', 'w', newline='') as file:\n",
        "    writer = csv.writer(file)\n",
        "    writer.writerow(header)\n",
        "    writer.writerows(rows)  # Escrever as linhas atualizadas\n"
      ]
    }
  ],
  "metadata": {
    "colab": {
      "provenance": [],
      "authorship_tag": "ABX9TyNl1JWccfdY+VKTs7a2DiXk",
      "include_colab_link": true
    },
    "kernelspec": {
      "display_name": "Python 3",
      "name": "python3"
    },
    "language_info": {
      "name": "python"
    }
  },
  "nbformat": 4,
  "nbformat_minor": 0
}